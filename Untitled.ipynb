{
 "cells": [
  {
   "cell_type": "code",
   "execution_count": 2,
   "id": "bd95d174-403d-440f-a4ec-a4a736999e5b",
   "metadata": {},
   "outputs": [],
   "source": [
    "import torch\n",
    "import torch.nn as nn\n",
    "import numpy as np\n",
    "from src.model import MalConv\n",
    "from torch.autograd import Variable"
   ]
  },
  {
   "cell_type": "code",
   "execution_count": 4,
   "id": "63d2ef34-345c-4a24-9e74-8427064e40ae",
   "metadata": {},
   "outputs": [
    {
     "data": {
      "text/plain": [
       "MalConv(\n",
       "  (embed): Embedding(257, 8, padding_idx=0)\n",
       "  (conv_1): Conv1d(4, 128, kernel_size=(500,), stride=(500,))\n",
       "  (conv_2): Conv1d(4, 128, kernel_size=(500,), stride=(500,))\n",
       "  (pooling): MaxPool1d(kernel_size=4000, stride=4000, padding=0, dilation=1, ceil_mode=False)\n",
       "  (fc_1): Linear(in_features=128, out_features=128, bias=True)\n",
       "  (fc_2): Linear(in_features=128, out_features=1, bias=True)\n",
       "  (sigmoid): Sigmoid()\n",
       "  (softmax): Softmax(dim=None)\n",
       ")"
      ]
     },
     "execution_count": 4,
     "metadata": {},
     "output_type": "execute_result"
    }
   ],
   "source": [
    "model = torch.load('checkpoint2/example_sd_123123.model', map_location=torch.device('cpu'), weights_only=False)\n",
    "model.eval()"
   ]
  },
  {
   "cell_type": "code",
   "execution_count": 5,
   "id": "5385cfc4-6bbd-462d-814e-cf07c3ce71b2",
   "metadata": {},
   "outputs": [],
   "source": [
    "first_n_byte = 2000000\n",
    "window_size = 500\n",
    "file_path = 'data/01F545238DCED9110E8DA50B4AB8E2DE5CE4485E'\n",
    "\n",
    "sigmoid = nn.Sigmoid()"
   ]
  },
  {
   "cell_type": "code",
   "execution_count": 6,
   "id": "c2183bb3-7540-45f3-be1a-660e48da381f",
   "metadata": {},
   "outputs": [],
   "source": [
    "def exe_data(file_path, first_n_byte):\n",
    "    # 입력 파일을 읽어들여 바이너리 데이터를 텐서로 변환\n",
    "    try:\n",
    "        with open(file_path, 'rb') as f:\n",
    "            tmp = [i+1 for i in f.read()[:first_n_byte]]\n",
    "            tmp = tmp+[0]*(first_n_byte-len(tmp))\n",
    "    except:\n",
    "        with open(file_path.lower(), 'rb') as f:\n",
    "            tmp = [i+1 for i in f.read()[:first_n_byte]]\n",
    "            tmp = tmp+[0]*(first_n_byte-len(tmp))\n",
    "        \n",
    "\n",
    "    return np.array(tmp)\n"
   ]
  },
  {
   "cell_type": "code",
   "execution_count": null,
   "id": "d82946c1-94ac-4d3c-a5f4-28eac86cf625",
   "metadata": {},
   "outputs": [],
   "source": []
  },
  {
   "cell_type": "code",
   "execution_count": 11,
   "id": "35e3357b-8f76-422d-aee9-f3487d55e806",
   "metadata": {},
   "outputs": [
    {
     "name": "stdout",
     "output_type": "stream",
     "text": [
      "tensor([ 78,  91, 145,  ...,   0,   0,   0])\n"
     ]
    }
   ],
   "source": [
    "history = {}\n",
    "history['pred'] = []\n",
    "\n",
    "input_data = exe_data(file_path, first_n_byte)\n",
    "# cur_batch_size = input_data.size(0)\n",
    "\n",
    "# exe_input = input_data[:first_n_byte]\n",
    "# exe_input = Variable(input_data.long(), requires_grad=False)\n",
    "input_data = torch.tensor(input_data)\n",
    "print(input_data)\n",
    "with torch.no_grad():\n",
    "    pred = model(input_data)    \n",
    "history['pred'].append(list(sigmoid(pred).cpu().numpy()))"
   ]
  },
  {
   "cell_type": "code",
   "execution_count": 12,
   "id": "21d68218-2895-4e6b-83f4-cb19d5eec7c7",
   "metadata": {},
   "outputs": [
    {
     "name": "stdout",
     "output_type": "stream",
     "text": [
      "{'pred': [[array([0.7310586], dtype=float32)]]}\n"
     ]
    }
   ],
   "source": [
    "print(history)"
   ]
  },
  {
   "cell_type": "code",
   "execution_count": null,
   "id": "a0294c9f-998b-403d-a17d-de69f554deb7",
   "metadata": {},
   "outputs": [],
   "source": []
  }
 ],
 "metadata": {
  "kernelspec": {
   "display_name": "Python 3 (ipykernel)",
   "language": "python",
   "name": "python3"
  },
  "language_info": {
   "codemirror_mode": {
    "name": "ipython",
    "version": 3
   },
   "file_extension": ".py",
   "mimetype": "text/x-python",
   "name": "python",
   "nbconvert_exporter": "python",
   "pygments_lexer": "ipython3",
   "version": "3.10.12"
  }
 },
 "nbformat": 4,
 "nbformat_minor": 5
}

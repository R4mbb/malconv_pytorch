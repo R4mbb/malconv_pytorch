{
 "cells": [
  {
   "cell_type": "code",
   "execution_count": 110,
   "id": "bd95d174-403d-440f-a4ec-a4a736999e5b",
   "metadata": {},
   "outputs": [],
   "source": [
    "import torch\n",
    "import torch.nn as nn\n",
    "import numpy as np\n",
    "from src.model import MalConv\n",
    "from torch.autograd import Variable"
   ]
  },
  {
   "cell_type": "code",
   "execution_count": 111,
   "id": "63d2ef34-345c-4a24-9e74-8427064e40ae",
   "metadata": {},
   "outputs": [
    {
     "data": {
      "text/plain": [
       "MalConv(\n",
       "  (embed): Embedding(257, 8, padding_idx=0)\n",
       "  (conv_1): Conv1d(4, 128, kernel_size=(500,), stride=(500,))\n",
       "  (conv_2): Conv1d(4, 128, kernel_size=(500,), stride=(500,))\n",
       "  (pooling): MaxPool1d(kernel_size=4000, stride=4000, padding=0, dilation=1, ceil_mode=False)\n",
       "  (fc_1): Linear(in_features=128, out_features=128, bias=True)\n",
       "  (fc_2): Linear(in_features=128, out_features=1, bias=True)\n",
       "  (sigmoid): Sigmoid()\n",
       ")"
      ]
     },
     "execution_count": 111,
     "metadata": {},
     "output_type": "execute_result"
    }
   ],
   "source": [
    "model = torch.load('model/example_sd_1.model', map_location=torch.device('cpu'), weights_only=False)\n",
    "model.eval()"
   ]
  },
  {
   "cell_type": "code",
   "execution_count": 140,
   "id": "5385cfc4-6bbd-462d-814e-cf07c3ce71b2",
   "metadata": {},
   "outputs": [],
   "source": [
    "first_n_bytes = 2000000\n",
    "window_size = 500\n",
    "file_path = 'data/ECEE659BBF94547F49CA8E8E38F067896BC7AB1FF8575A5D551DE1FD7D273D9F'\n",
    "\n",
    "sigmoid = nn.Sigmoid()"
   ]
  },
  {
   "cell_type": "code",
   "execution_count": 141,
   "id": "c2183bb3-7540-45f3-be1a-660e48da381f",
   "metadata": {},
   "outputs": [],
   "source": [
    "def preprocess_input(file_path, first_n_bytes):\n",
    "    # 입력 파일을 읽어들여 바이너리 데이터를 텐서로 변환\n",
    "    with open(file_path, 'rb') as f:\n",
    "        byte_data = f.read()\n",
    "\n",
    "    # 각 바이트 값을 정수로 변환하고 텐서로 변환\n",
    "    input_data = torch.tensor([b for b in byte_data], dtype=torch.long)\n",
    "\n",
    "    # 모델의 입력 크기에 맞게 크기 조정 (패딩 등 필요할 수 있음)\n",
    "    input_data = input_data[:first_n_bytes]  # MalConv의 입력 크기에 맞춤\n",
    "\n",
    "    # 텐서를 배치 차원 추가\n",
    "    return input_data.unsqueeze(0)\n"
   ]
  },
  {
   "cell_type": "code",
   "execution_count": 142,
   "id": "35e3357b-8f76-422d-aee9-f3487d55e806",
   "metadata": {},
   "outputs": [
    {
     "name": "stdout",
     "output_type": "stream",
     "text": [
      "1\n",
      "tensor([ 77,  90, 144,  ...,   9, 232, 197])\n"
     ]
    }
   ],
   "source": [
    "history = {}\n",
    "history['pred'] = []\n",
    "\n",
    "input_data = preprocess_input(file_path, first_n_bytes)\n",
    "cur_batch_size = input_data.size(0)\n",
    "\n",
    "exe_input = input_data[:first_n_bytes]\n",
    "exe_input = Variable(exe_input.long(), requires_grad=False)\n",
    "print(len(exe_input))\n",
    "for i in exe_input:\n",
    "    print(i)\n",
    "    with torch.no_grad():\n",
    "        pred = model(i)    \n",
    "    history['pred'].append(list(sigmoid(pred).cpu().numpy()))\n",
    "# input length 이슈로 인해서 2MB 이하가 input 값으로 주어지면, 에러 발생. 나머지 빈 공간은 0으로 패딩 필요."
   ]
  },
  {
   "cell_type": "code",
   "execution_count": 130,
   "id": "21d68218-2895-4e6b-83f4-cb19d5eec7c7",
   "metadata": {},
   "outputs": [
    {
     "name": "stdout",
     "output_type": "stream",
     "text": [
      "{'pred': [[array([0.75380844], dtype=float32)]]}\n"
     ]
    }
   ],
   "source": [
    "print(history)"
   ]
  },
  {
   "cell_type": "code",
   "execution_count": null,
   "id": "a0294c9f-998b-403d-a17d-de69f554deb7",
   "metadata": {},
   "outputs": [],
   "source": []
  }
 ],
 "metadata": {
  "kernelspec": {
   "display_name": "Python 3 (ipykernel)",
   "language": "python",
   "name": "python3"
  },
  "language_info": {
   "codemirror_mode": {
    "name": "ipython",
    "version": 3
   },
   "file_extension": ".py",
   "mimetype": "text/x-python",
   "name": "python",
   "nbconvert_exporter": "python",
   "pygments_lexer": "ipython3",
   "version": "3.10.12"
  }
 },
 "nbformat": 4,
 "nbformat_minor": 5
}

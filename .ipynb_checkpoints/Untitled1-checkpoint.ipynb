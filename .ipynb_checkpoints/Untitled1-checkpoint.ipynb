{
 "cells": [
  {
   "cell_type": "code",
   "execution_count": 23,
   "id": "90b2819d-ae84-4673-b05a-605951065780",
   "metadata": {},
   "outputs": [],
   "source": [
    "# coding: utf-8\n",
    "import os\n",
    "import time\n",
    "import sys\n",
    "import yaml\n",
    "import numpy as np\n",
    "import pandas as pd\n",
    "from src.util import ExeDataset,write_pred\n",
    "from src.model import MalConv\n",
    "from torch.utils.data import DataLoader\n",
    "import torch\n",
    "import torch.nn as nn\n",
    "import torch.optim as optim\n",
    "from torch.autograd import Variable"
   ]
  },
  {
   "cell_type": "code",
   "execution_count": 24,
   "id": "36c7e568-9d2f-4679-906d-987c760e783e",
   "metadata": {},
   "outputs": [],
   "source": [
    "config_path = 'config/example2.yaml'\n",
    "seed = 99\n",
    "conf = yaml.load(open(config_path, 'r'), Loader=yaml.Loader)"
   ]
  },
  {
   "cell_type": "code",
   "execution_count": 36,
   "id": "e57cf6d5-b48b-4c06-be53-9caf2b666c04",
   "metadata": {},
   "outputs": [
    {
     "name": "stdout",
     "output_type": "stream",
     "text": [
      "Experiment:\n",
      "\t example_sd_99\n",
      "asd\n",
      "                                          1\n",
      "0                                          \n",
      "01F545238DCED9110E8DA50B4AB8E2DE5CE4485E  0\n",
      "01F64389FBBF640580EBF1DC05DBDC3DCFD047FF  1\n",
      "asd\n",
      "Index(['01F545238DCED9110E8DA50B4AB8E2DE5CE4485E', '01F64389FBBF640580EBF1DC05DBDC3DCFD047FF'], dtype='object', name=0)\n",
      "asd\n",
      "                                          ground_truth\n",
      "0                                                     \n",
      "01F545238DCED9110E8DA50B4AB8E2DE5CE4485E             0\n",
      "01F64389FBBF640580EBF1DC05DBDC3DCFD047FF             1\n",
      "asd\n",
      "                                          ground_truth\n",
      "0                                                     \n",
      "01F545238DCED9110E8DA50B4AB8E2DE5CE4485E             0\n",
      "01F64389FBBF640580EBF1DC05DBDC3DCFD047FF             1\n"
     ]
    }
   ],
   "source": [
    "exp_name = conf['exp_name']+'_sd_'+str(seed)\n",
    "print('Experiment:')\n",
    "print('\\t',exp_name)\n",
    "\n",
    "np.random.seed(seed)\n",
    "torch.manual_seed(seed)\n",
    "\n",
    "train_data_path = conf['train_data_path']\n",
    "train_label_path = conf['train_label_path']\n",
    "valid_data_path = conf['valid_data_path']\n",
    "valid_label_path = conf['valid_label_path']\n",
    "\n",
    "log_dir = conf['log_dir']\n",
    "pred_dir = conf['pred_dir']\n",
    "checkpoint_dir = conf['checkpoint_dir']\n",
    "\n",
    "log_file_path = log_dir+exp_name+'.log'\n",
    "chkpt_acc_path = checkpoint_dir+exp_name+'.model'\n",
    "pred_path = pred_dir+exp_name+'.pred'\n",
    "\n",
    "# Parameters\n",
    "use_gpu = conf['use_gpu']\n",
    "use_cpu = conf['use_cpu']\n",
    "learning_rate = conf['learning_rate']\n",
    "max_step = conf['max_step']\n",
    "test_step = conf['test_step']\n",
    "batch_size = conf['batch_size']\n",
    "first_n_byte = conf['first_n_byte']\n",
    "window_size = conf['window_size']\n",
    "display_step = conf['display_step']\n",
    "sample_cnt = conf['sample_cnt']\n",
    "\n",
    "# Load Ground Truth.\n",
    "tr_label_table = pd.read_csv(train_label_path,header=None,index_col=0)\n",
    "tr_label_table.index=tr_label_table.index.str.upper()\n",
    "tr_label_table = tr_label_table.rename(columns={1:'ground_truth'})\n",
    "val_label_table = pd.read_csv(valid_label_path,header=None,index_col=0)\n",
    "print(\"asd\")\n",
    "print(val_label_table)\n",
    "print(\"asd\")\n",
    "val_label_table.index=val_label_table.index.str.upper()\n",
    "print(val_label_table.index)\n",
    "print(\"asd\")\n",
    "val_label_table = val_label_table.rename(columns={1:'ground_truth'})\n",
    "print(val_label_table)\n",
    "print(\"asd\")\n",
    "\n",
    "tr_table = tr_label_table.groupby(level=0).last()\n",
    "val_table = val_label_table.groupby(level=0).last()\n",
    "print(val_table)\n",
    "tr_table = tr_table.drop(val_table.index.join(tr_table.index, how='inner'))"
   ]
  },
  {
   "cell_type": "code",
   "execution_count": 26,
   "id": "80a7b2d8-bf2e-4efb-b414-321b8776aa12",
   "metadata": {},
   "outputs": [
    {
     "name": "stdout",
     "output_type": "stream",
     "text": [
      "Training Set:\n",
      "\tTotal 2 files\n",
      "\tMalware Count : 1\n",
      "\tGoodware Count: 1\n",
      "Validation Set:\n",
      "\tTotal 2 files\n",
      "\tMalware Count : 1\n",
      "\tGoodware Count: 1\n"
     ]
    }
   ],
   "source": [
    "print('Training Set:')\n",
    "print('\\tTotal',len(tr_table),'files')\n",
    "print('\\tMalware Count :',tr_table['ground_truth'].value_counts()[1])\n",
    "print('\\tGoodware Count:',tr_table['ground_truth'].value_counts()[0])\n",
    "\n",
    "\n",
    "print('Validation Set:')\n",
    "print('\\tTotal',len(val_table),'files')\n",
    "print('\\tMalware Count :',val_table['ground_truth'].value_counts()[1])\n",
    "print('\\tGoodware Count:',val_table['ground_truth'].value_counts()[0])"
   ]
  },
  {
   "cell_type": "code",
   "execution_count": 27,
   "id": "2fd97158-9b53-42a6-ad3d-a37e73cc4975",
   "metadata": {},
   "outputs": [],
   "source": [
    "dataloader = DataLoader(ExeDataset(list(tr_table.index), train_data_path, list(tr_table.ground_truth), first_n_byte),\n",
    "                       batch_size=batch_size, shuffle=True, num_workers=use_cpu)\n",
    "validloader = DataLoader(ExeDataset(list(val_table.index), valid_data_path, list(val_table.ground_truth), first_n_byte),\n",
    "                         batch_size=batch_size, shuffle=False, num_workers=use_cpu)\n",
    "valid_idx = list(val_table.index)"
   ]
  },
  {
   "cell_type": "code",
   "execution_count": 28,
   "id": "1cdad588-0844-477d-a5c4-6b01806335df",
   "metadata": {},
   "outputs": [],
   "source": [
    "malconv = MalConv(input_length=first_n_byte, window_size=window_size)\n",
    "bce_loss = nn.BCEWithLogitsLoss()\n",
    "adam_optim = optim.Adam([{'params':malconv.parameters()}], lr=learning_rate)\n",
    "sigmoid = nn.Sigmoid()"
   ]
  },
  {
   "cell_type": "code",
   "execution_count": 29,
   "id": "016fcb29-e690-450f-9642-846943c38e66",
   "metadata": {},
   "outputs": [
    {
     "name": "stdout",
     "output_type": "stream",
     "text": [
      "{'tr_loss': [], 'tr_acc': []}\n"
     ]
    }
   ],
   "source": [
    "step_msg = 'step-{}-loss-{:.6f}-acc-{:.4f}-time-{:.2f}'\n",
    "valid_msg = 'step-{}-tr_loss-{:.6f}-tr_acc-{:.4f}-val_loss-{:.6f}-val_acc-{:.4f}'\n",
    "log_msg = '{}, {:.6f}, {:.4f}, {:.6f}, {:.4f}, {:.2f}'\n",
    "history = {}\n",
    "history['tr_loss'] = []\n",
    "history['tr_acc'] = []\n",
    "print(history)"
   ]
  },
  {
   "cell_type": "code",
   "execution_count": 30,
   "id": "9664dc81-be7b-4578-8b22-fec53ecc94f0",
   "metadata": {},
   "outputs": [],
   "source": [
    "valid_best_acc = 0.0\n",
    "total_step = 0\n",
    "step_cost_time = 0"
   ]
  },
  {
   "cell_type": "code",
   "execution_count": 31,
   "id": "4d64e980-a90e-42e3-a7cb-269a1a9457ab",
   "metadata": {},
   "outputs": [
    {
     "name": "stdout",
     "output_type": "stream",
     "text": [
      "[tensor([[ 78,  91,  81,  ...,   0,   0,   0],\n",
      "        [ 78,  91, 145,  ...,   0,   0,   0]]), tensor([[1],\n",
      "        [0]])]\n"
     ]
    }
   ],
   "source": [
    "for i in dataloader:\n",
    "    print(i)\n",
    "    break"
   ]
  },
  {
   "cell_type": "code",
   "execution_count": 41,
   "id": "9d274257-11d3-4538-b353-4045bbc0bd8d",
   "metadata": {},
   "outputs": [
    {
     "name": "stdout",
     "output_type": "stream",
     "text": [
      "2000000\n",
      "Checkpoint saved at checkpoint2/example_sd_99.model\n",
      "Prediction saved at pred2/example_sd_99.pred\n"
     ]
    }
   ],
   "source": [
    "while total_step < max_step:\n",
    "    # Training\n",
    "    for step, batch_data in enumerate(dataloader):\n",
    "        break\n",
    "        start = time.time()\n",
    "        adam_optim.zero_grad()\n",
    "        cur_batch_size = batch_data[0].size(0)\n",
    "\n",
    "        exe_input = batch_data[0]\n",
    "        exe_input = Variable(exe_input.long(), requires_grad=False)\n",
    "        \n",
    "        label = batch_data[1]\n",
    "        label = Variable(label.float(), requires_grad=False)\n",
    "\n",
    "        pred = malconv(exe_input)\n",
    "        loss = bce_loss(pred, label)\n",
    "        loss.backward()\n",
    "        adam_optim.step()\n",
    "\n",
    "        history['tr_loss'].append(loss.cpu().data.numpy())\n",
    "        history['tr_acc'].extend(list(label.cpu().data.numpy().astype(int)==\n",
    "                                      (sigmoid(pred).cpu().data.numpy()+0.5).astype(int)))\n",
    "\n",
    "        step_cost_time = time.time()-start\n",
    "\n",
    "        if (step+1) % display_step == 0:\n",
    "            print(step_msg.format(total_step, np.mean(history['tr_loss']),\n",
    "                                  np.mean(history['tr_acc']), step_cost_time), end='\\r', flush=True)\n",
    "        total_step += 1\n",
    "\n",
    "        if total_step % test_step == 0:\n",
    "            break\n",
    "\n",
    "    # Testing\n",
    "    history['val_loss'] = []\n",
    "    history['val_acc'] = []\n",
    "    history['val_pred'] = []\n",
    "    \n",
    "    for _,val_batch_data in enumerate(validloader):\n",
    "        cur_batch_size = val_batch_data[0].size(0)\n",
    "\n",
    "        exe_input = val_batch_data[0].cuda() if use_gpu else val_batch_data[0]\n",
    "        exe_input = Variable(exe_input.long(),requires_grad=False)\n",
    "\n",
    "        label = val_batch_data[1].cuda() if use_gpu else val_batch_data[1]\n",
    "        label = Variable(label.float(),requires_grad=False)\n",
    "\n",
    "        pred = malconv(exe_input)\n",
    "        print(len(exe_input[0]))\n",
    "        loss = bce_loss(pred,label)\n",
    "\n",
    "        history['val_loss'].append(loss.cpu().data.numpy())\n",
    "        history['val_acc'].extend(list(label.cpu().data.numpy().astype(int)==(sigmoid(pred).cpu().data.numpy()+0.5).astype(int)))\n",
    "        history['val_pred'].append(list(sigmoid(pred).cpu().data.numpy()))\n",
    "\n",
    "    if valid_best_acc < np.mean(history['val_acc']):\n",
    "        valid_best_acc = np.mean(history['val_acc'])\n",
    "        torch.save(malconv,chkpt_acc_path)\n",
    "        print('Checkpoint saved at',chkpt_acc_path)\n",
    "        write_pred(history['val_pred'],valid_idx,pred_path)\n",
    "        print('Prediction saved at', pred_path)\n",
    "    break\n",
    "    history['tr_loss'] = []\n",
    "    history['tr_acc'] = []"
   ]
  },
  {
   "cell_type": "code",
   "execution_count": 15,
   "id": "3379155a-85f3-4e15-94b6-105973feebe5",
   "metadata": {},
   "outputs": [
    {
     "name": "stdout",
     "output_type": "stream",
     "text": [
      "0.975\n",
      "0.049859595\n"
     ]
    }
   ],
   "source": [
    "print(np.mean(history['tr_acc']))\n",
    "print(np.mean(history['tr_loss']))"
   ]
  },
  {
   "cell_type": "code",
   "execution_count": null,
   "id": "51d2a562-bb4d-45ff-a16b-6648bf068041",
   "metadata": {},
   "outputs": [],
   "source": []
  }
 ],
 "metadata": {
  "kernelspec": {
   "display_name": "Python 3 (ipykernel)",
   "language": "python",
   "name": "python3"
  },
  "language_info": {
   "codemirror_mode": {
    "name": "ipython",
    "version": 3
   },
   "file_extension": ".py",
   "mimetype": "text/x-python",
   "name": "python",
   "nbconvert_exporter": "python",
   "pygments_lexer": "ipython3",
   "version": "3.10.14"
  }
 },
 "nbformat": 4,
 "nbformat_minor": 5
}
